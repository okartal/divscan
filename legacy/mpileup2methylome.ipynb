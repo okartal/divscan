{
 "metadata": {
  "name": "",
  "signature": "sha256:11564cdc3b42c4562cdd98724b48669139a1d1cd6b7ee9a21a8778f6f24ec1b0"
 },
 "nbformat": 3,
 "nbformat_minor": 0,
 "worksheets": [
  {
   "cells": [
    {
     "cell_type": "code",
     "collapsed": false,
     "input": [
      "cd ~/tmp"
     ],
     "language": "python",
     "metadata": {},
     "outputs": [
      {
       "output_type": "stream",
       "stream": "stdout",
       "text": [
        "/home/oender/tmp\n"
       ]
      }
     ],
     "prompt_number": 1
    },
    {
     "cell_type": "code",
     "collapsed": false,
     "input": [
      "import numpy as np\n",
      "\n",
      "with open('test', 'r') as mpileup:\n",
      "    pileup = (line.strip().split('\\t') for line in mpileup)\n",
      "    base_calls = (line[:3] + line[4:][::3] for line in pileup if line[2].upper() in ['C', 'G'])\n",
      "    base_counts = (countmeth(calls) for calls in base_calls)\n",
      "    covered_bases = (counts for counts in base_counts if counts[3] > 0)\n",
      "    div = (diversity(counts) for counts in covered_bases)\n",
      "    c = 0\n",
      "    for line in div:\n",
      "        print '\\t'.join(line)\n",
      "        c += 1\n",
      "        if c==30:\n",
      "            break"
     ],
     "language": "python",
     "metadata": {},
     "outputs": [
      {
       "output_type": "stream",
       "stream": "stdout",
       "text": [
        "20\t60005\t+\t0.9\t1\t0.0\n",
        "20\t60035\t+\t0.8\t1\t0.0\n",
        "20\t60036\t+\t0.7\t1\t0.0\n",
        "20\t60045\t+\t0.5\t0\t0.0\n",
        "20\t60052\t+\t0.5\t0\t0.0\n",
        "20\t60055\t+\t0.5\t1\t0.0\n",
        "20\t60062\t-\t0.1\t0\t0.0\n",
        "20\t60063\t-\t0.1\t1\t0.0\n",
        "20\t60069\t-\t0.2\t1\t0.0\n",
        "20\t60070\t-\t0.2\t1\t0.0\n",
        "20\t60075\t-\t0.2\t0\t0.0\n",
        "20\t60076\t-\t0.2\t0\t0.0\n",
        "20\t60077\t-\t0.2\t0\t0.0\n",
        "20\t60080\t-\t0.2\t1\t0.0\n",
        "20\t60082\t+\t0.6\t0\t0.0\n",
        "20\t60087\t-\t0.2\t0\t0.0\n",
        "20\t60089\t-\t0.2\t1\t0.0\n",
        "20\t60090\t-\t0.2\t0\t0.0\n",
        "20\t60092\t-\t0.2\t1\t0.0\n",
        "20\t60093\t-\t0.2\t1\t0.0\n",
        "20\t60094\t-\t0.2\t0\t0.0\n",
        "20\t60097\t-\t0.2\t1\t0.0\n",
        "20\t60098\t-\t0.2\t0\t0.0\n",
        "20\t60105\t-\t0.2\t1\t0.0\n",
        "20\t60106\t-\t0.2\t0\t0.0\n",
        "20\t60111\t+\t0.5\t1\t0.0\n",
        "20\t60115\t-\t0.2\t1\t0.0\n",
        "20\t60124\t+\t0.6\t0\t0.0\n",
        "20\t60132\t+\t0.8\t0\t0.0\n",
        "20\t60135\t-\t0.2\t0\t0.0\n"
       ]
      }
     ],
     "prompt_number": 302
    },
    {
     "cell_type": "code",
     "collapsed": false,
     "input": [
      "def countmeth(basecalls): # maybe use np.fromregex if you read directly from filtered generator\n",
      "    \"\"\"\n",
      "    \"\"\"\n",
      "    \n",
      "    ref = basecalls[2]\n",
      "    callstrings = basecalls[3:]\n",
      "    if ref.upper() == 'C':\n",
      "        strand = '+'\n",
      "        counts_M = [call.count('.') for call in callstrings]\n",
      "        counts_m = [call.count('T') for call in callstrings]\n",
      "    elif ref.upper() == 'G':\n",
      "        strand = '-'\n",
      "        counts_M = [call.count(',') for call in callstrings]\n",
      "        counts_m = [call.count('a') for call in callstrings]\n",
      "    total_count = sum(counts_M) + sum(counts_m)\n",
      "    counts = zip(counts_M, counts_m)\n",
      "    return basecalls[:2] + [strand] + [total_count] + counts"
     ],
     "language": "python",
     "metadata": {},
     "outputs": [],
     "prompt_number": 270
    },
    {
     "cell_type": "code",
     "collapsed": false,
     "input": [
      "def diversity(counts):\n",
      "    \"\"\"\n",
      "    \"\"\"\n",
      "\n",
      "    position = counts[:3]\n",
      "    \n",
      "    total_count = counts[3]\n",
      "    \n",
      "    count_matrix = np.array(counts[4:])\n",
      "    \n",
      "    num_ind, dim_sampleSpace = count_matrix.shape\n",
      "    \n",
      "    wavg_methylation = (count_matrix.sum(axis=0)/total_count)[0]\n",
      "    \n",
      "    ind_counts = count_matrix.sum(axis=1)\n",
      "    \n",
      "    avg_count = round(np.average(ind_counts), 1)\n",
      "    \n",
      "    freq_matrix = count_matrix.T/ind_counts\n",
      "    \n",
      "    ind_weights = ind_counts/total_count\n",
      "    \n",
      "    entropy_weight_dist = -xlogy(ind_weights, ind_weights).sum()\n",
      "    \n",
      "    confidence_metric = round(avg_count/float(num_ind)*(np.log(dim_sampleSpace) - entropy_weight_dist), 1)\n",
      "    \n",
      "    diversity = jsd(distributions=freq_matrix, weights=ind_weights) # jsd could be vectorized/mapped over loci\n",
      "    \n",
      "    return position + [str(confidence_metric)] + [str(wavg_methylation)] + [str(diversity)]"
     ],
     "language": "python",
     "metadata": {},
     "outputs": [],
     "prompt_number": 300
    },
    {
     "cell_type": "code",
     "collapsed": false,
     "input": [
      "from scipy.special import xlogy\n",
      "\n",
      "def jsd(distributions=None, weights=None):\n",
      "    \"\"\" Calculates the Jensen-Shannon Divergence.\n",
      "    \n",
      "    Parameters\n",
      "    ----------\n",
      "    d : array_like\n",
      "        d.shape = (k,n)\n",
      "        n distributions over k-dimensional sample space\n",
      "    w : array_like\n",
      "        w.shape = (n,)\n",
      "        weights for n distributions\n",
      "\n",
      "    Returns\n",
      "    -------\n",
      "    j : float\n",
      "        Jensen-Shannon Divergence between the distributions\n",
      "\n",
      "    Notes\n",
      "    -----\n",
      "    The Jensen-Shannon Divergence is given by J = H(<P>) - <H>, the\n",
      "    entropy of the weighted average distribution minus the weighted\n",
      "    average of the distribution entropies. It is a measure of the\n",
      "    overall difference between distributions based on information\n",
      "    loss.\n",
      "\n",
      "    \"\"\"\n",
      "\n",
      "    d = distributions\n",
      "    w = weights\n",
      "\n",
      "    dAvg = d.dot(w)\n",
      "    h_dAvg = -xlogy(dAvg, dAvg).sum()\n",
      "    hAvg = -xlogy(w*d, d).sum()\n",
      "    j = h_dAvg - hAvg\n",
      "    return j"
     ],
     "language": "python",
     "metadata": {},
     "outputs": [],
     "prompt_number": 301
    },
    {
     "cell_type": "code",
     "collapsed": false,
     "input": [
      "diversity(A)"
     ],
     "language": "python",
     "metadata": {},
     "outputs": [
      {
       "metadata": {},
       "output_type": "pyout",
       "prompt_number": 106,
       "text": [
        "0.0053546167317684024"
       ]
      }
     ],
     "prompt_number": 106
    },
    {
     "cell_type": "code",
     "collapsed": false,
     "input": [
      "a = [3,3,3]"
     ],
     "language": "python",
     "metadata": {},
     "outputs": [],
     "prompt_number": 111
    },
    {
     "cell_type": "code",
     "collapsed": false,
     "input": [
      "np.average()"
     ],
     "language": "python",
     "metadata": {},
     "outputs": [
      {
       "metadata": {},
       "output_type": "pyout",
       "prompt_number": 112,
       "text": [
        "9"
       ]
      }
     ],
     "prompt_number": 112
    },
    {
     "cell_type": "code",
     "collapsed": false,
     "input": [
      "a = [(0, 0), (0, 0), (0, 0)]"
     ],
     "language": "python",
     "metadata": {},
     "outputs": [],
     "prompt_number": 169
    },
    {
     "cell_type": "code",
     "collapsed": false,
     "input": [
      "%timeit sum(map(sum, a))"
     ],
     "language": "python",
     "metadata": {},
     "outputs": [
      {
       "output_type": "stream",
       "stream": "stdout",
       "text": [
        "1000000 loops, best of 3: 544 ns per loop\n"
       ]
      }
     ],
     "prompt_number": 168
    },
    {
     "cell_type": "code",
     "collapsed": false,
     "input": [
      "%timeit na.sum()"
     ],
     "language": "python",
     "metadata": {},
     "outputs": [
      {
       "output_type": "stream",
       "stream": "stdout",
       "text": [
        "1000000 loops, best of 3: 1.19 \u00b5s per loop\n"
       ]
      }
     ],
     "prompt_number": 171
    },
    {
     "cell_type": "code",
     "collapsed": false,
     "input": [
      "np.average()"
     ],
     "language": "python",
     "metadata": {},
     "outputs": [
      {
       "metadata": {},
       "output_type": "pyout",
       "prompt_number": 210,
       "text": [
        "array([[ 0.78262662,  0.93053281],\n",
        "       [ 0.69374496,  0.51340545],\n",
        "       [ 0.43287344,  0.36377414],\n",
        "       [ 0.6512785 ,  0.50269965]])"
       ]
      }
     ],
     "prompt_number": 210
    },
    {
     "cell_type": "code",
     "collapsed": false,
     "input": [
      "a = list(A.flatten())\n",
      "a = a\n",
      "b = list(3.2*A.flatten())"
     ],
     "language": "python",
     "metadata": {},
     "outputs": [],
     "prompt_number": 276
    },
    {
     "cell_type": "code",
     "collapsed": false,
     "input": [
      "x, y = a[:2]"
     ],
     "language": "python",
     "metadata": {},
     "outputs": [],
     "prompt_number": 285
    },
    {
     "cell_type": "code",
     "collapsed": false,
     "input": [
      "a, b = A.shape"
     ],
     "language": "python",
     "metadata": {},
     "outputs": [],
     "prompt_number": 298
    },
    {
     "cell_type": "code",
     "collapsed": false,
     "input": [
      "ind = np.array([1,3,0,2])"
     ],
     "language": "python",
     "metadata": {},
     "outputs": [],
     "prompt_number": 304
    },
    {
     "cell_type": "code",
     "collapsed": false,
     "input": [
      "A.T/ind"
     ],
     "language": "python",
     "metadata": {},
     "outputs": [
      {
       "metadata": {},
       "output_type": "pyout",
       "prompt_number": 324,
       "text": [
        "array([[ 0.78262662,  0.23124832,         inf,  0.32563925],\n",
        "       [ 0.93053281,  0.17113515,         inf,  0.25134983]])"
       ]
      }
     ],
     "prompt_number": 324
    },
    {
     "cell_type": "code",
     "collapsed": false,
     "input": [
      "np.where(ind>0, A.T/ind, 0)"
     ],
     "language": "python",
     "metadata": {},
     "outputs": [
      {
       "metadata": {},
       "output_type": "pyout",
       "prompt_number": 323,
       "text": [
        "array([[ 0.78262662,  0.23124832,  0.        ,  0.32563925],\n",
        "       [ 0.93053281,  0.17113515,  0.        ,  0.25134983]])"
       ]
      }
     ],
     "prompt_number": 323
    },
    {
     "cell_type": "code",
     "collapsed": false,
     "input": [
      "B.compress(B != 0, axis=1)"
     ],
     "language": "python",
     "metadata": {},
     "outputs": [
      {
       "ename": "ValueError",
       "evalue": "condition must be a 1-d array",
       "output_type": "pyerr",
       "traceback": [
        "\u001b[1;31m---------------------------------------------------------------------------\u001b[0m\n\u001b[1;31mValueError\u001b[0m                                Traceback (most recent call last)",
        "\u001b[1;32m<ipython-input-319-050b244e2e44>\u001b[0m in \u001b[0;36m<module>\u001b[1;34m()\u001b[0m\n\u001b[1;32m----> 1\u001b[1;33m \u001b[0mB\u001b[0m\u001b[1;33m.\u001b[0m\u001b[0mcompress\u001b[0m\u001b[1;33m(\u001b[0m\u001b[0mB\u001b[0m \u001b[1;33m!=\u001b[0m \u001b[1;36m0\u001b[0m\u001b[1;33m,\u001b[0m \u001b[0maxis\u001b[0m\u001b[1;33m=\u001b[0m\u001b[1;36m1\u001b[0m\u001b[1;33m)\u001b[0m\u001b[1;33m\u001b[0m\u001b[0m\n\u001b[0m",
        "\u001b[1;31mValueError\u001b[0m: condition must be a 1-d array"
       ]
      }
     ],
     "prompt_number": 319
    },
    {
     "cell_type": "code",
     "collapsed": false,
     "input": [
      "B.compress(ind != 0, axis=1)"
     ],
     "language": "python",
     "metadata": {},
     "outputs": [
      {
       "metadata": {},
       "output_type": "pyout",
       "prompt_number": 344,
       "text": [
        "array([[ 0.78262662,  0.23124832,  0.32563925],\n",
        "       [ 0.93053281,  0.17113515,  0.25134983]])"
       ]
      }
     ],
     "prompt_number": 344
    },
    {
     "cell_type": "code",
     "collapsed": false,
     "input": [
      "ind[ind != 0]"
     ],
     "language": "python",
     "metadata": {},
     "outputs": [
      {
       "metadata": {},
       "output_type": "pyout",
       "prompt_number": 339,
       "text": [
        "array([1, 3, 2])"
       ]
      }
     ],
     "prompt_number": 339
    },
    {
     "cell_type": "code",
     "collapsed": false,
     "input": [
      "ind"
     ],
     "language": "python",
     "metadata": {},
     "outputs": [
      {
       "metadata": {},
       "output_type": "pyout",
       "prompt_number": 340,
       "text": [
        "array([1, 3, 0, 2])"
       ]
      }
     ],
     "prompt_number": 340
    },
    {
     "cell_type": "code",
     "collapsed": false,
     "input": [],
     "language": "python",
     "metadata": {},
     "outputs": []
    }
   ],
   "metadata": {}
  }
 ]
}