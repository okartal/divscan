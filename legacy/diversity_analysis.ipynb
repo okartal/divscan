{
 "metadata": {
  "name": "",
  "signature": "sha256:1613b7b01619c85970747f982d195d24b867a62477341859510b19c2b84fa19d"
 },
 "nbformat": 3,
 "nbformat_minor": 0,
 "worksheets": [
  {
   "cells": [
    {
     "cell_type": "heading",
     "level": 1,
     "metadata": {},
     "source": [
      "Analysis of methylation diversity"
     ]
    },
    {
     "cell_type": "code",
     "collapsed": false,
     "input": [
      "%matplotlib inline\n",
      "\n",
      "from __future__ import print_function\n",
      "from __future__ import division\n",
      "\n",
      "import matplotlib.pyplot as plt\n",
      "import numpy as np\n",
      "import pandas as pd\n",
      "import statsmodels.api as sm\n",
      "\n",
      "from pybedtools import BedTool"
     ],
     "language": "python",
     "metadata": {},
     "outputs": [],
     "prompt_number": 80
    },
    {
     "cell_type": "code",
     "collapsed": false,
     "input": [
      "import brewer2mpl\n",
      "import matplotlib\n",
      "plt.rcParams.update(pd.tools.plotting.mpl_stylesheet)\n",
      "bmap = brewer2mpl.get_map('Set2','qualitative', 7)\n",
      "matplotlib.rcParams['axes.color_cycle'] = bmap.mpl_colors"
     ],
     "language": "python",
     "metadata": {},
     "outputs": [],
     "prompt_number": 23
    },
    {
     "cell_type": "markdown",
     "metadata": {},
     "source": [
      "Input data"
     ]
    },
    {
     "cell_type": "code",
     "collapsed": false,
     "input": [
      "chrom_info = '/home/oender/data/genomes/Arabidopsis_thaliana/NCBI/TAIR10/Annotation/Genes/ChromInfo.txt'\n",
      "\n",
      "# BedTool instances\n",
      "gff_raw = BedTool('/home/oender/data/genomes/Arabidopsis_thaliana/features/tair10.sorted.gff')\n",
      "cns_raw = BedTool('/home/oender/data/genomes/Arabidopsis_thaliana/features/AT_CNS.sorted.bed')\n",
      "div_raw = BedTool('/home/oender/data/2013schmitz/diversity/diversity.weighted.bed')"
     ],
     "language": "python",
     "metadata": {},
     "outputs": [],
     "prompt_number": 2
    },
    {
     "cell_type": "code",
     "collapsed": false,
     "input": [
      "import re\n",
      "\n",
      "def harmonize_chromID(feature):\n",
      "    match = re.search(\"Chr[1-5]\", feature.chrom)\n",
      "    if not match:\n",
      "        feature.chrom = \"Chr\" + re.findall(r\"\\d+\", feature.chrom)[0]\n",
      "    return feature"
     ],
     "language": "python",
     "metadata": {},
     "outputs": [],
     "prompt_number": 60
    },
    {
     "cell_type": "code",
     "collapsed": false,
     "input": [
      "# use this when you need it (generator!)\n",
      "#gff = gff_raw.each(harmonize_chromID)\n",
      "#cns = cns_raw.each(harmonize_chromID)"
     ],
     "language": "python",
     "metadata": {},
     "outputs": [],
     "prompt_number": 149
    },
    {
     "cell_type": "heading",
     "level": 3,
     "metadata": {},
     "source": [
      "SMPs"
     ]
    },
    {
     "cell_type": "code",
     "collapsed": false,
     "input": [
      "SMP_THRESHOLD = 1.2\n",
      "\n",
      "path = '/home/oender/data/2013schmitz/diversity/diversity.weighted.bed'\n",
      "df = pd.read_table(path, \n",
      "                   header=None, \n",
      "                   names=['chrom', 'start', 'end', 'context', 'diversity'])\n",
      "df_smp = df[df['diversity'] > SMP_THRESHOLD]"
     ],
     "language": "python",
     "metadata": {},
     "outputs": [],
     "prompt_number": 9
    },
    {
     "cell_type": "code",
     "collapsed": false,
     "input": [
      "fig_path = '/home/oender/project_PopulationEpigenetics/project/presentations/conference_poster_3/figures/pie_context.eps'\n",
      "\n",
      "fig = plt.figure(figsize=[10, 10])\n",
      "ax = fig.add_subplot(111)\n",
      "ax = df_smp['context'].value_counts().plot(kind='pie', \n",
      "                                           autopct='%.1f',\n",
      "                                           fontsize=20,\n",
      "                                           subplots=True)\n",
      "fig.savefig(fig_path, transparent=True)"
     ],
     "language": "python",
     "metadata": {},
     "outputs": [
      {
       "metadata": {},
       "output_type": "display_data",
       "png": "[encoded data removed]",
       "text": [
        "<matplotlib.figure.Figure at 0x7f0057ef1f10>"
       ]
      }
     ],
     "prompt_number": 76
    },
    {
     "cell_type": "code",
     "collapsed": false,
     "input": [
      "df_smp.context.value_counts().cumsum()"
     ],
     "language": "python",
     "metadata": {},
     "outputs": [
      {
       "metadata": {},
       "output_type": "pyout",
       "prompt_number": 55,
       "text": [
        "CG     108274\n",
        "CHG    113071\n",
        "CHH    116437\n",
        "dtype: int64"
       ]
      }
     ],
     "prompt_number": 55
    },
    {
     "cell_type": "code",
     "collapsed": false,
     "input": [
      "len(df_smp)/len(df) * 100"
     ],
     "language": "python",
     "metadata": {},
     "outputs": [
      {
       "metadata": {},
       "output_type": "pyout",
       "prompt_number": 82,
       "text": [
        "4.474456818304089"
       ]
      }
     ],
     "prompt_number": 82
    },
    {
     "cell_type": "code",
     "collapsed": false,
     "input": [
      "fig_path = '/home/oender/project_PopulationEpigenetics/project/presentations/conference_poster_3/figures/ecdf_context.eps'\n",
      "\n",
      "contexts = ['CG', 'CHG', 'CHH']\n",
      "colors = bmap.hex_colors\n",
      "for col, group in zip(colors, contexts):\n",
      "    div_values = df[df['context'] == group]['diversity']\n",
      "    div_ecdf = sm.distributions.ECDF(div_values)\n",
      "    x = np.linspace(min(div_values), max(div_values))\n",
      "    y = div_ecdf(x)\n",
      "    plt.step(x, y, color=col, alpha=1, linewidth=2, label=group)\n",
      "\n",
      "plt.legend(loc='lower right')\n",
      "plt.grid('on', axis='both')\n",
      "plt.axis([0.95, 2.05, 0, 1.05])\n",
      "plt.xlabel('Diversity')\n",
      "plt.ylabel('Cumulative probability')\n",
      "plt.savefig(fig_path, bbox_inches='tight')"
     ],
     "language": "python",
     "metadata": {},
     "outputs": [
      {
       "metadata": {},
       "output_type": "display_data",
       "png": "[encoded data removed]",
       "text": [
        "<matplotlib.figure.Figure at 0x7f0055fa9a10>"
       ]
      }
     ],
     "prompt_number": 58
    },
    {
     "cell_type": "heading",
     "level": 3,
     "metadata": {},
     "source": [
      "SMP clustering"
     ]
    },
    {
     "cell_type": "heading",
     "level": 5,
     "metadata": {},
     "source": [
      "kdist plot (not used)"
     ]
    },
    {
     "cell_type": "code",
     "collapsed": false,
     "input": [
      "def kdistplot(data=None, pos='start', k=2):\n",
      "    # groupby chrom!\n",
      "    shifts = range(1-k, k)\n",
      "    shifts.remove(0)\n",
      "    shifted_data = [data[pos].shift(i) for i in shifts]\n",
      "    df = pd.concat([data[pos]] + shifted_data, ignore_index=True, axis=1).reset_index(drop=True)\n",
      "    kdist = df.apply(lambda x: np.sort(np.abs(x[0] - x)), axis=1).icol(k)\n",
      "    kdist.sort(ascending=False, inplace=False).reset_index(drop=True).iloc[0:100].plot(marker='.', linestyle='None')\n",
      "    return None"
     ],
     "language": "python",
     "metadata": {},
     "outputs": [],
     "prompt_number": 501
    },
    {
     "cell_type": "markdown",
     "metadata": {},
     "source": [
      "We want to cluster SMPs (defined as sites with D > SMP_THRESHOLD) but to get an idea of a suitable maximum distance parameter that defines two SMPs to be close we plot a histogram of the nearest neighbour distances (k-distance plot with k=2 according to our minimum cluster size). The distance at the \"knee\" of the plot is a good choice according to a heuristic to find *eps* (that is the parameter that defines closeness) in DBSCAN, a very similar cluster finding algorithm.\n",
      "\n",
      "Trick: To find the distances between neighbouring SMPs we simply extract the lengths of the intervals between the SMPs using the complement of smps. This leads to some boundary intervals that are not indicative of distances between SMPs but we probably filter them all out by the CAP parameter. Anyway for the rough approximation we intend to do here that noise does not bother us."
     ]
    },
    {
     "cell_type": "code",
     "collapsed": false,
     "input": [
      "path_smp = '/home/oender/data/2013schmitz/diversity/SMPs.bed'\n",
      "path_smpCluster = \"/home/oender/data/2013schmitz/diversity/smp_clusters.bed\"\n",
      "fig_path = '/home/oender/project_PopulationEpigenetics/project/presentations/conference_poster_3/figures/clustersize_counts.eps'\n",
      "\n",
      "EPS = 300 # from mean EXON size! (see below)\n",
      "\n",
      "smps = div_raw.each(harmonize_chromID).filter(lambda x: float(x[-1]) > SMP_THRESHOLD).saveas(path_smp)\n",
      "\n",
      "smp_clusters = smps.merge(d=EPS, c=4, o='count').saveas(path_smpCluster)\n",
      "\n",
      "df_smpClusters = pd.read_table(path_smpCluster, \n",
      "                               header=None, \n",
      "                               names=[\"chrom\", \"start\", \"end\", \"counts\"])\n",
      "\n",
      "clustersize_counts = df_smpClusters['counts'].value_counts()"
     ],
     "language": "python",
     "metadata": {},
     "outputs": [],
     "prompt_number": 67
    },
    {
     "cell_type": "code",
     "collapsed": false,
     "input": [
      "fig = plt.figure()\n",
      "ax = fig.add_subplot(111)\n",
      "\n",
      "#ax.set_ymargin(0.3)\n",
      "ax = clustersize_counts.plot(marker='o',\n",
      "                            linestyle='None',\n",
      "                            rot=0,\n",
      "                            logy=True)\n",
      "ax.set_xlabel('cluster size (number of SMPs)')\n",
      "ax.set_ylabel('count')\n",
      "ax.grid(False, 'both')\n",
      "plt.savefig(fig_path, bbox_inches='tight')"
     ],
     "language": "python",
     "metadata": {},
     "outputs": [
      {
       "metadata": {},
       "output_type": "display_data",
       "png": "[encoded data removed]",
       "text": [
        "<matplotlib.figure.Figure at 0x7f0055e90690>"
       ]
      }
     ],
     "prompt_number": 74
    },
    {
     "cell_type": "code",
     "collapsed": false,
     "input": [
      "exons = gff.filter(lambda x: x[2] == 'exon').saveas('/home/oender/data/2013schmitz/diversity/exons')\n",
      "exons = pd.read_table('/home/oender/data/2013schmitz/diversity/exons', header=None)\n",
      "exons.apply(lambda x: x[4]-x[3], axis=1).describe()"
     ],
     "language": "python",
     "metadata": {},
     "outputs": [],
     "prompt_number": 534
    },
    {
     "cell_type": "heading",
     "level": 3,
     "metadata": {},
     "source": [
      "Print genome coverage of SMP clusters"
     ]
    },
    {
     "cell_type": "code",
     "collapsed": false,
     "input": [
      "ipath = '/home/oender/data/2013schmitz/diversity/smp_clusters_gencov.bed'\n",
      "opath = '/home/oender/project_PopulationEpigenetics/project/presentations/conference_poster_3/smp_clusters.tex'\n",
      "\n",
      "smp_clusters.genome_coverage(g=chrom_info).saveas(ipath)\n",
      "\n",
      "df = pd.read_table(ipath, \n",
      "                   usecols=[0,2,3,4], \n",
      "                   names='region.covered (bp).uncovered (bp).fraction'.split('.'), \n",
      "                   skiprows=range(0,12,2))\n",
      "\n",
      "with open(opath,'w') as f:\n",
      "    print(df.to_latex(index=False), file=f)"
     ],
     "language": "python",
     "metadata": {},
     "outputs": [],
     "prompt_number": 621
    },
    {
     "cell_type": "heading",
     "level": 2,
     "metadata": {},
     "source": [
      "First let's make specific bedtool instances."
     ]
    },
    {
     "cell_type": "code",
     "collapsed": false,
     "input": [
      "smp_regions_ext = smp_regions.slop(g=gen, b=50).merge(c=4, o='sum')"
     ],
     "language": "python",
     "metadata": {},
     "outputs": [],
     "prompt_number": 14
    },
    {
     "cell_type": "code",
     "collapsed": false,
     "input": [
      "genes = gff.filter(lambda x: x[2] == 'gene').saveas('/home/oender/data/2013schmitz/diversity/genes')\n",
      "introns = genes.subtract(exons)"
     ],
     "language": "python",
     "metadata": {},
     "outputs": [],
     "prompt_number": 15
    },
    {
     "cell_type": "code",
     "collapsed": false,
     "input": [
      "cns_smps = cns.intersect(smp_regions_ext).sort()"
     ],
     "language": "python",
     "metadata": {},
     "outputs": [],
     "prompt_number": 32
    },
    {
     "cell_type": "code",
     "collapsed": false,
     "input": [
      "genic_smps = genes.intersect(smps, wa=True).sort()"
     ],
     "language": "python",
     "metadata": {},
     "outputs": [],
     "prompt_number": 52
    },
    {
     "cell_type": "code",
     "collapsed": false,
     "input": [
      "exonic_smps = exons.intersect(smp_regions_ext).sort()"
     ],
     "language": "python",
     "metadata": {},
     "outputs": [],
     "prompt_number": 40
    },
    {
     "cell_type": "code",
     "collapsed": false,
     "input": [
      "intronic_smps = introns.intersect(smp_regions_ext).sort()"
     ],
     "language": "python",
     "metadata": {},
     "outputs": [],
     "prompt_number": 42
    },
    {
     "cell_type": "code",
     "collapsed": false,
     "input": [
      "cns_smps.total_coverage()"
     ],
     "language": "python",
     "metadata": {},
     "outputs": [
      {
       "metadata": {},
       "output_type": "pyout",
       "prompt_number": 39,
       "text": [
        "126236"
       ]
      }
     ],
     "prompt_number": 39
    },
    {
     "cell_type": "code",
     "collapsed": false,
     "input": [
      "genic_smps.total_coverage()"
     ],
     "language": "python",
     "metadata": {},
     "outputs": [
      {
       "metadata": {},
       "output_type": "pyout",
       "prompt_number": 53,
       "text": [
        "38919515"
       ]
      }
     ],
     "prompt_number": 53
    },
    {
     "cell_type": "code",
     "collapsed": false,
     "input": [
      "exonic_smps.total_coverage()"
     ],
     "language": "python",
     "metadata": {},
     "outputs": [
      {
       "metadata": {},
       "output_type": "pyout",
       "prompt_number": 41,
       "text": [
        "4752232"
       ]
      }
     ],
     "prompt_number": 41
    },
    {
     "cell_type": "code",
     "collapsed": false,
     "input": [
      "intronic_smps.total_coverage()"
     ],
     "language": "python",
     "metadata": {},
     "outputs": [
      {
       "metadata": {},
       "output_type": "pyout",
       "prompt_number": 43,
       "text": [
        "1557866"
       ]
      }
     ],
     "prompt_number": 43
    },
    {
     "cell_type": "code",
     "collapsed": false,
     "input": [
      "4752232+1557866"
     ],
     "language": "python",
     "metadata": {},
     "outputs": [
      {
       "metadata": {},
       "output_type": "pyout",
       "prompt_number": 45,
       "text": [
        "6310098"
       ]
      }
     ],
     "prompt_number": 45
    },
    {
     "cell_type": "code",
     "collapsed": false,
     "input": [
      "intergenic_smps = smp_regions.subtract(genes)"
     ],
     "language": "python",
     "metadata": {},
     "outputs": [],
     "prompt_number": 244
    },
    {
     "cell_type": "code",
     "collapsed": false,
     "input": [
      "intergenic_smps.total_coverage()"
     ],
     "language": "python",
     "metadata": {},
     "outputs": [
      {
       "metadata": {},
       "output_type": "pyout",
       "prompt_number": 250,
       "text": [
        "223631"
       ]
      }
     ],
     "prompt_number": 250
    },
    {
     "cell_type": "code",
     "collapsed": false,
     "input": [
      "smp_regions.total_coverage()"
     ],
     "language": "python",
     "metadata": {},
     "outputs": [
      {
       "metadata": {},
       "output_type": "pyout",
       "prompt_number": 251,
       "text": [
        "2006211"
       ]
      }
     ],
     "prompt_number": 251
    },
    {
     "cell_type": "code",
     "collapsed": false,
     "input": [
      "223631+1753663"
     ],
     "language": "python",
     "metadata": {},
     "outputs": [
      {
       "metadata": {},
       "output_type": "pyout",
       "prompt_number": 252,
       "text": [
        "1977294"
       ]
      }
     ],
     "prompt_number": 252
    },
    {
     "cell_type": "code",
     "collapsed": false,
     "input": [
      "genes.total_coverage()"
     ],
     "language": "python",
     "metadata": {},
     "outputs": [
      {
       "metadata": {},
       "output_type": "pyout",
       "prompt_number": 253,
       "text": [
        "60130895"
       ]
      }
     ],
     "prompt_number": 253
    },
    {
     "cell_type": "code",
     "collapsed": false,
     "input": [
      "exons.total_coverage()"
     ],
     "language": "python",
     "metadata": {},
     "outputs": [
      {
       "metadata": {},
       "output_type": "pyout",
       "prompt_number": 259,
       "text": [
        "50129588"
       ]
      }
     ],
     "prompt_number": 259
    },
    {
     "cell_type": "code",
     "collapsed": false,
     "input": [
      "intergenic_smps.head()"
     ],
     "language": "python",
     "metadata": {},
     "outputs": [
      {
       "output_type": "stream",
       "stream": "stdout",
       "text": [
        "Chr1\t106801\t106802\t1\n",
        " Chr1\t213560\t213561\t1\n",
        " Chr1\t238514\t238540\t2\n",
        " Chr1\t239123\t239124\t1\n",
        " Chr1\t239252\t239360\t5\n",
        " Chr1\t242608\t242632\t3\n",
        " Chr1\t255857\t255927\t6\n",
        " Chr1\t256047\t256048\t1\n",
        " Chr1\t291968\t292082\t5\n",
        " Chr1\t292345\t292439\t2\n",
        "\n"
       ]
      }
     ],
     "prompt_number": 255
    },
    {
     "cell_type": "code",
     "collapsed": false,
     "input": [],
     "language": "python",
     "metadata": {},
     "outputs": []
    }
   ],
   "metadata": {}
  }
 ]
}